{
 "cells": [
  {
   "cell_type": "markdown",
   "id": "6c3011dc-610b-4f5d-96d5-aaa84612b203",
   "metadata": {},
   "source": [
    "## Crawling a website"
   ]
  },
  {
   "cell_type": "code",
   "execution_count": null,
   "id": "3ae9a59e-d829-4937-93b5-46fab2ff2f36",
   "metadata": {},
   "outputs": [],
   "source": []
  }
 ],
 "metadata": {
  "kernelspec": {
   "display_name": "Python 3.9",
   "language": "python",
   "name": "py39"
  },
  "language_info": {
   "codemirror_mode": {
    "name": "ipython",
    "version": 3
   },
   "file_extension": ".py",
   "mimetype": "text/x-python",
   "name": "python",
   "nbconvert_exporter": "python",
   "pygments_lexer": "ipython3",
   "version": "3.9.12"
  }
 },
 "nbformat": 4,
 "nbformat_minor": 5
}
